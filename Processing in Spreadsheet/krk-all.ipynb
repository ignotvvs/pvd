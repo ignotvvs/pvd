{
 "cells": [
  {
   "cell_type": "markdown",
   "metadata": {},
   "source": [
    "# Krakow fligths"
   ]
  },
  {
   "cell_type": "code",
   "execution_count": 1,
   "metadata": {},
   "outputs": [],
   "source": [
    "import pandas as pd\n",
    "import matplotlib.pyplot as plt"
   ]
  },
  {
   "cell_type": "code",
   "execution_count": 2,
   "metadata": {},
   "outputs": [
    {
     "data": {
      "text/html": [
       "<div>\n",
       "<style scoped>\n",
       "    .dataframe tbody tr th:only-of-type {\n",
       "        vertical-align: middle;\n",
       "    }\n",
       "\n",
       "    .dataframe tbody tr th {\n",
       "        vertical-align: top;\n",
       "    }\n",
       "\n",
       "    .dataframe thead th {\n",
       "        text-align: right;\n",
       "    }\n",
       "</style>\n",
       "<table border=\"1\" class=\"dataframe\">\n",
       "  <thead>\n",
       "    <tr style=\"text-align: right;\">\n",
       "      <th></th>\n",
       "      <th>airlineid</th>\n",
       "      <th>airline</th>\n",
       "      <th>airplane</th>\n",
       "    </tr>\n",
       "  </thead>\n",
       "  <tbody>\n",
       "    <tr>\n",
       "      <th>0</th>\n",
       "      <td>PE</td>\n",
       "      <td>PanEurope</td>\n",
       "      <td>Boeing 787</td>\n",
       "    </tr>\n",
       "    <tr>\n",
       "      <th>1</th>\n",
       "      <td>SH</td>\n",
       "      <td>SunHoliday</td>\n",
       "      <td>Airbus A319</td>\n",
       "    </tr>\n",
       "    <tr>\n",
       "      <th>2</th>\n",
       "      <td>BS</td>\n",
       "      <td>BlueSky</td>\n",
       "      <td>Airbus A330</td>\n",
       "    </tr>\n",
       "  </tbody>\n",
       "</table>\n",
       "</div>"
      ],
      "text/plain": [
       "  airlineid     airline     airplane\n",
       "0        PE   PanEurope   Boeing 787\n",
       "1        SH  SunHoliday  Airbus A319\n",
       "2        BS     BlueSky  Airbus A330"
      ]
     },
     "execution_count": 2,
     "metadata": {},
     "output_type": "execute_result"
    }
   ],
   "source": [
    "krk_airlines = pd.read_csv('krk-airlines.csv')\n",
    "krk_airlines"
   ]
  },
  {
   "cell_type": "code",
   "execution_count": 3,
   "metadata": {},
   "outputs": [
    {
     "data": {
      "text/html": [
       "<div>\n",
       "<style scoped>\n",
       "    .dataframe tbody tr th:only-of-type {\n",
       "        vertical-align: middle;\n",
       "    }\n",
       "\n",
       "    .dataframe tbody tr th {\n",
       "        vertical-align: top;\n",
       "    }\n",
       "\n",
       "    .dataframe thead th {\n",
       "        text-align: right;\n",
       "    }\n",
       "</style>\n",
       "<table border=\"1\" class=\"dataframe\">\n",
       "  <thead>\n",
       "    <tr style=\"text-align: right;\">\n",
       "      <th></th>\n",
       "      <th>flight</th>\n",
       "      <th>from</th>\n",
       "      <th>to</th>\n",
       "      <th>airlineid</th>\n",
       "    </tr>\n",
       "  </thead>\n",
       "  <tbody>\n",
       "    <tr>\n",
       "      <th>0</th>\n",
       "      <td>LN222</td>\n",
       "      <td>Krakow</td>\n",
       "      <td>London</td>\n",
       "      <td>PE</td>\n",
       "    </tr>\n",
       "    <tr>\n",
       "      <th>1</th>\n",
       "      <td>BE321</td>\n",
       "      <td>Krakow</td>\n",
       "      <td>Berlin</td>\n",
       "      <td>SH</td>\n",
       "    </tr>\n",
       "    <tr>\n",
       "      <th>2</th>\n",
       "      <td>PA006</td>\n",
       "      <td>Krakow</td>\n",
       "      <td>Paris</td>\n",
       "      <td>SH</td>\n",
       "    </tr>\n",
       "    <tr>\n",
       "      <th>3</th>\n",
       "      <td>NY777</td>\n",
       "      <td>Krakow</td>\n",
       "      <td>New York</td>\n",
       "      <td>BS</td>\n",
       "    </tr>\n",
       "  </tbody>\n",
       "</table>\n",
       "</div>"
      ],
      "text/plain": [
       "  flight    from        to airlineid\n",
       "0  LN222  Krakow    London        PE\n",
       "1  BE321  Krakow    Berlin        SH\n",
       "2  PA006  Krakow     Paris        SH\n",
       "3  NY777  Krakow  New York        BS"
      ]
     },
     "execution_count": 3,
     "metadata": {},
     "output_type": "execute_result"
    }
   ],
   "source": [
    "krk_flights = pd.read_csv('krk-flights.csv')\n",
    "krk_flights"
   ]
  },
  {
   "cell_type": "code",
   "execution_count": 4,
   "metadata": {},
   "outputs": [
    {
     "data": {
      "text/html": [
       "<div>\n",
       "<style scoped>\n",
       "    .dataframe tbody tr th:only-of-type {\n",
       "        vertical-align: middle;\n",
       "    }\n",
       "\n",
       "    .dataframe tbody tr th {\n",
       "        vertical-align: top;\n",
       "    }\n",
       "\n",
       "    .dataframe thead th {\n",
       "        text-align: right;\n",
       "    }\n",
       "</style>\n",
       "<table border=\"1\" class=\"dataframe\">\n",
       "  <thead>\n",
       "    <tr style=\"text-align: right;\">\n",
       "      <th></th>\n",
       "      <th>flight</th>\n",
       "      <th>name</th>\n",
       "      <th>surname</th>\n",
       "      <th>gender</th>\n",
       "    </tr>\n",
       "  </thead>\n",
       "  <tbody>\n",
       "    <tr>\n",
       "      <th>0</th>\n",
       "      <td>NY777</td>\n",
       "      <td>Ingaberg</td>\n",
       "      <td>Adanet</td>\n",
       "      <td>Female</td>\n",
       "    </tr>\n",
       "    <tr>\n",
       "      <th>1</th>\n",
       "      <td>PA006</td>\n",
       "      <td>Korry</td>\n",
       "      <td>McGrann</td>\n",
       "      <td>Female</td>\n",
       "    </tr>\n",
       "    <tr>\n",
       "      <th>2</th>\n",
       "      <td>NY777</td>\n",
       "      <td>Leonhard</td>\n",
       "      <td>Videneev</td>\n",
       "      <td>Male</td>\n",
       "    </tr>\n",
       "    <tr>\n",
       "      <th>3</th>\n",
       "      <td>PA006</td>\n",
       "      <td>Heath</td>\n",
       "      <td>Butterfill</td>\n",
       "      <td>Female</td>\n",
       "    </tr>\n",
       "    <tr>\n",
       "      <th>4</th>\n",
       "      <td>LN222</td>\n",
       "      <td>Ferguson</td>\n",
       "      <td>Osban</td>\n",
       "      <td>Male</td>\n",
       "    </tr>\n",
       "    <tr>\n",
       "      <th>...</th>\n",
       "      <td>...</td>\n",
       "      <td>...</td>\n",
       "      <td>...</td>\n",
       "      <td>...</td>\n",
       "    </tr>\n",
       "    <tr>\n",
       "      <th>95</th>\n",
       "      <td>PA006</td>\n",
       "      <td>Alon</td>\n",
       "      <td>Brixham</td>\n",
       "      <td>Male</td>\n",
       "    </tr>\n",
       "    <tr>\n",
       "      <th>96</th>\n",
       "      <td>BE321</td>\n",
       "      <td>Roman</td>\n",
       "      <td>MacAskill</td>\n",
       "      <td>Male</td>\n",
       "    </tr>\n",
       "    <tr>\n",
       "      <th>97</th>\n",
       "      <td>LN222</td>\n",
       "      <td>Emmanuel</td>\n",
       "      <td>Tickel</td>\n",
       "      <td>Male</td>\n",
       "    </tr>\n",
       "    <tr>\n",
       "      <th>98</th>\n",
       "      <td>LN222</td>\n",
       "      <td>Ingmar</td>\n",
       "      <td>Cockman</td>\n",
       "      <td>Male</td>\n",
       "    </tr>\n",
       "    <tr>\n",
       "      <th>99</th>\n",
       "      <td>LN222</td>\n",
       "      <td>Claudie</td>\n",
       "      <td>Braid</td>\n",
       "      <td>Female</td>\n",
       "    </tr>\n",
       "  </tbody>\n",
       "</table>\n",
       "<p>100 rows × 4 columns</p>\n",
       "</div>"
      ],
      "text/plain": [
       "   flight      name     surname  gender\n",
       "0   NY777  Ingaberg      Adanet  Female\n",
       "1   PA006     Korry     McGrann  Female\n",
       "2   NY777  Leonhard    Videneev    Male\n",
       "3   PA006     Heath  Butterfill  Female\n",
       "4   LN222  Ferguson       Osban    Male\n",
       "..    ...       ...         ...     ...\n",
       "95  PA006      Alon     Brixham    Male\n",
       "96  BE321     Roman   MacAskill    Male\n",
       "97  LN222  Emmanuel      Tickel    Male\n",
       "98  LN222    Ingmar     Cockman    Male\n",
       "99  LN222   Claudie       Braid  Female\n",
       "\n",
       "[100 rows x 4 columns]"
      ]
     },
     "execution_count": 4,
     "metadata": {},
     "output_type": "execute_result"
    }
   ],
   "source": [
    "krk_passengers = pd.read_csv('krk-passengers.csv')\n",
    "krk_passengers"
   ]
  },
  {
   "cell_type": "code",
   "execution_count": 6,
   "metadata": {},
   "outputs": [
    {
     "data": {
      "text/html": [
       "<div>\n",
       "<style scoped>\n",
       "    .dataframe tbody tr th:only-of-type {\n",
       "        vertical-align: middle;\n",
       "    }\n",
       "\n",
       "    .dataframe tbody tr th {\n",
       "        vertical-align: top;\n",
       "    }\n",
       "\n",
       "    .dataframe thead th {\n",
       "        text-align: right;\n",
       "    }\n",
       "</style>\n",
       "<table border=\"1\" class=\"dataframe\">\n",
       "  <thead>\n",
       "    <tr style=\"text-align: right;\">\n",
       "      <th></th>\n",
       "      <th>flight</th>\n",
       "      <th>from</th>\n",
       "      <th>to</th>\n",
       "      <th>airlineid</th>\n",
       "      <th>airline</th>\n",
       "      <th>airplane</th>\n",
       "    </tr>\n",
       "  </thead>\n",
       "  <tbody>\n",
       "    <tr>\n",
       "      <th>0</th>\n",
       "      <td>LN222</td>\n",
       "      <td>Krakow</td>\n",
       "      <td>London</td>\n",
       "      <td>PE</td>\n",
       "      <td>PanEurope</td>\n",
       "      <td>Boeing 787</td>\n",
       "    </tr>\n",
       "    <tr>\n",
       "      <th>1</th>\n",
       "      <td>BE321</td>\n",
       "      <td>Krakow</td>\n",
       "      <td>Berlin</td>\n",
       "      <td>SH</td>\n",
       "      <td>SunHoliday</td>\n",
       "      <td>Airbus A319</td>\n",
       "    </tr>\n",
       "    <tr>\n",
       "      <th>2</th>\n",
       "      <td>PA006</td>\n",
       "      <td>Krakow</td>\n",
       "      <td>Paris</td>\n",
       "      <td>SH</td>\n",
       "      <td>SunHoliday</td>\n",
       "      <td>Airbus A319</td>\n",
       "    </tr>\n",
       "    <tr>\n",
       "      <th>3</th>\n",
       "      <td>NY777</td>\n",
       "      <td>Krakow</td>\n",
       "      <td>New York</td>\n",
       "      <td>BS</td>\n",
       "      <td>BlueSky</td>\n",
       "      <td>Airbus A330</td>\n",
       "    </tr>\n",
       "  </tbody>\n",
       "</table>\n",
       "</div>"
      ],
      "text/plain": [
       "  flight    from        to airlineid     airline     airplane\n",
       "0  LN222  Krakow    London        PE   PanEurope   Boeing 787\n",
       "1  BE321  Krakow    Berlin        SH  SunHoliday  Airbus A319\n",
       "2  PA006  Krakow     Paris        SH  SunHoliday  Airbus A319\n",
       "3  NY777  Krakow  New York        BS     BlueSky  Airbus A330"
      ]
     },
     "execution_count": 6,
     "metadata": {},
     "output_type": "execute_result"
    }
   ],
   "source": [
    "flights_airlines = pd.merge(krk_flights, krk_airlines, on=\"airlineid\")\n",
    "flights_airlines"
   ]
  },
  {
   "cell_type": "code",
   "execution_count": 7,
   "metadata": {},
   "outputs": [
    {
     "data": {
      "text/html": [
       "<div>\n",
       "<style scoped>\n",
       "    .dataframe tbody tr th:only-of-type {\n",
       "        vertical-align: middle;\n",
       "    }\n",
       "\n",
       "    .dataframe tbody tr th {\n",
       "        vertical-align: top;\n",
       "    }\n",
       "\n",
       "    .dataframe thead th {\n",
       "        text-align: right;\n",
       "    }\n",
       "</style>\n",
       "<table border=\"1\" class=\"dataframe\">\n",
       "  <thead>\n",
       "    <tr style=\"text-align: right;\">\n",
       "      <th></th>\n",
       "      <th>flight</th>\n",
       "      <th>name</th>\n",
       "      <th>surname</th>\n",
       "      <th>gender</th>\n",
       "      <th>from</th>\n",
       "      <th>to</th>\n",
       "      <th>airlineid</th>\n",
       "      <th>airline</th>\n",
       "      <th>airplane</th>\n",
       "    </tr>\n",
       "  </thead>\n",
       "  <tbody>\n",
       "    <tr>\n",
       "      <th>0</th>\n",
       "      <td>NY777</td>\n",
       "      <td>Ingaberg</td>\n",
       "      <td>Adanet</td>\n",
       "      <td>Female</td>\n",
       "      <td>Krakow</td>\n",
       "      <td>New York</td>\n",
       "      <td>BS</td>\n",
       "      <td>BlueSky</td>\n",
       "      <td>Airbus A330</td>\n",
       "    </tr>\n",
       "    <tr>\n",
       "      <th>1</th>\n",
       "      <td>PA006</td>\n",
       "      <td>Korry</td>\n",
       "      <td>McGrann</td>\n",
       "      <td>Female</td>\n",
       "      <td>Krakow</td>\n",
       "      <td>Paris</td>\n",
       "      <td>SH</td>\n",
       "      <td>SunHoliday</td>\n",
       "      <td>Airbus A319</td>\n",
       "    </tr>\n",
       "    <tr>\n",
       "      <th>2</th>\n",
       "      <td>NY777</td>\n",
       "      <td>Leonhard</td>\n",
       "      <td>Videneev</td>\n",
       "      <td>Male</td>\n",
       "      <td>Krakow</td>\n",
       "      <td>New York</td>\n",
       "      <td>BS</td>\n",
       "      <td>BlueSky</td>\n",
       "      <td>Airbus A330</td>\n",
       "    </tr>\n",
       "    <tr>\n",
       "      <th>3</th>\n",
       "      <td>PA006</td>\n",
       "      <td>Heath</td>\n",
       "      <td>Butterfill</td>\n",
       "      <td>Female</td>\n",
       "      <td>Krakow</td>\n",
       "      <td>Paris</td>\n",
       "      <td>SH</td>\n",
       "      <td>SunHoliday</td>\n",
       "      <td>Airbus A319</td>\n",
       "    </tr>\n",
       "    <tr>\n",
       "      <th>4</th>\n",
       "      <td>LN222</td>\n",
       "      <td>Ferguson</td>\n",
       "      <td>Osban</td>\n",
       "      <td>Male</td>\n",
       "      <td>Krakow</td>\n",
       "      <td>London</td>\n",
       "      <td>PE</td>\n",
       "      <td>PanEurope</td>\n",
       "      <td>Boeing 787</td>\n",
       "    </tr>\n",
       "    <tr>\n",
       "      <th>...</th>\n",
       "      <td>...</td>\n",
       "      <td>...</td>\n",
       "      <td>...</td>\n",
       "      <td>...</td>\n",
       "      <td>...</td>\n",
       "      <td>...</td>\n",
       "      <td>...</td>\n",
       "      <td>...</td>\n",
       "      <td>...</td>\n",
       "    </tr>\n",
       "    <tr>\n",
       "      <th>95</th>\n",
       "      <td>PA006</td>\n",
       "      <td>Alon</td>\n",
       "      <td>Brixham</td>\n",
       "      <td>Male</td>\n",
       "      <td>Krakow</td>\n",
       "      <td>Paris</td>\n",
       "      <td>SH</td>\n",
       "      <td>SunHoliday</td>\n",
       "      <td>Airbus A319</td>\n",
       "    </tr>\n",
       "    <tr>\n",
       "      <th>96</th>\n",
       "      <td>BE321</td>\n",
       "      <td>Roman</td>\n",
       "      <td>MacAskill</td>\n",
       "      <td>Male</td>\n",
       "      <td>Krakow</td>\n",
       "      <td>Berlin</td>\n",
       "      <td>SH</td>\n",
       "      <td>SunHoliday</td>\n",
       "      <td>Airbus A319</td>\n",
       "    </tr>\n",
       "    <tr>\n",
       "      <th>97</th>\n",
       "      <td>LN222</td>\n",
       "      <td>Emmanuel</td>\n",
       "      <td>Tickel</td>\n",
       "      <td>Male</td>\n",
       "      <td>Krakow</td>\n",
       "      <td>London</td>\n",
       "      <td>PE</td>\n",
       "      <td>PanEurope</td>\n",
       "      <td>Boeing 787</td>\n",
       "    </tr>\n",
       "    <tr>\n",
       "      <th>98</th>\n",
       "      <td>LN222</td>\n",
       "      <td>Ingmar</td>\n",
       "      <td>Cockman</td>\n",
       "      <td>Male</td>\n",
       "      <td>Krakow</td>\n",
       "      <td>London</td>\n",
       "      <td>PE</td>\n",
       "      <td>PanEurope</td>\n",
       "      <td>Boeing 787</td>\n",
       "    </tr>\n",
       "    <tr>\n",
       "      <th>99</th>\n",
       "      <td>LN222</td>\n",
       "      <td>Claudie</td>\n",
       "      <td>Braid</td>\n",
       "      <td>Female</td>\n",
       "      <td>Krakow</td>\n",
       "      <td>London</td>\n",
       "      <td>PE</td>\n",
       "      <td>PanEurope</td>\n",
       "      <td>Boeing 787</td>\n",
       "    </tr>\n",
       "  </tbody>\n",
       "</table>\n",
       "<p>100 rows × 9 columns</p>\n",
       "</div>"
      ],
      "text/plain": [
       "   flight      name     surname  gender    from        to airlineid  \\\n",
       "0   NY777  Ingaberg      Adanet  Female  Krakow  New York        BS   \n",
       "1   PA006     Korry     McGrann  Female  Krakow     Paris        SH   \n",
       "2   NY777  Leonhard    Videneev    Male  Krakow  New York        BS   \n",
       "3   PA006     Heath  Butterfill  Female  Krakow     Paris        SH   \n",
       "4   LN222  Ferguson       Osban    Male  Krakow    London        PE   \n",
       "..    ...       ...         ...     ...     ...       ...       ...   \n",
       "95  PA006      Alon     Brixham    Male  Krakow     Paris        SH   \n",
       "96  BE321     Roman   MacAskill    Male  Krakow    Berlin        SH   \n",
       "97  LN222  Emmanuel      Tickel    Male  Krakow    London        PE   \n",
       "98  LN222    Ingmar     Cockman    Male  Krakow    London        PE   \n",
       "99  LN222   Claudie       Braid  Female  Krakow    London        PE   \n",
       "\n",
       "       airline     airplane  \n",
       "0      BlueSky  Airbus A330  \n",
       "1   SunHoliday  Airbus A319  \n",
       "2      BlueSky  Airbus A330  \n",
       "3   SunHoliday  Airbus A319  \n",
       "4    PanEurope   Boeing 787  \n",
       "..         ...          ...  \n",
       "95  SunHoliday  Airbus A319  \n",
       "96  SunHoliday  Airbus A319  \n",
       "97   PanEurope   Boeing 787  \n",
       "98   PanEurope   Boeing 787  \n",
       "99   PanEurope   Boeing 787  \n",
       "\n",
       "[100 rows x 9 columns]"
      ]
     },
     "execution_count": 7,
     "metadata": {},
     "output_type": "execute_result"
    }
   ],
   "source": [
    "krk_all = pd.merge(krk_passengers, flights_airlines, on=\"flight\")\n",
    "krk_all"
   ]
  },
  {
   "cell_type": "code",
   "execution_count": 8,
   "metadata": {},
   "outputs": [
    {
     "data": {
      "text/plain": [
       "to\n",
       "London    15\n",
       "Paris     41\n",
       "Name: flight, dtype: int64"
      ]
     },
     "execution_count": 8,
     "metadata": {},
     "output_type": "execute_result"
    }
   ],
   "source": [
    "krk_all.query(\"to == 'London' or to == 'Paris'\").groupby(\"to\")[\"flight\"].count()"
   ]
  },
  {
   "cell_type": "code",
   "execution_count": 9,
   "metadata": {},
   "outputs": [
    {
     "data": {
      "text/plain": [
       "<Axes: xlabel='to'>"
      ]
     },
     "execution_count": 9,
     "metadata": {},
     "output_type": "execute_result"
    },
    {
     "data": {
      "image/png": "[encoded data removed]",
      "text/plain": [
       "<Figure size 640x480 with 1 Axes>"
      ]
     },
     "metadata": {},
     "output_type": "display_data"
    }
   ],
   "source": [
    "krk_all.query(\"to == 'London' or to == 'Paris'\").groupby(\"to\")[\"flight\"].count().plot.bar()"
   ]
  },
  {
   "cell_type": "code",
   "execution_count": 10,
   "metadata": {},
   "outputs": [
    {
     "data": {
      "text/plain": [
       "airline     gender\n",
       "BlueSky     Female    12\n",
       "            Male      15\n",
       "PanEurope   Female     7\n",
       "            Male       8\n",
       "SunHoliday  Female    27\n",
       "            Male      31\n",
       "Name: flight, dtype: int64"
      ]
     },
     "execution_count": 10,
     "metadata": {},
     "output_type": "execute_result"
    }
   ],
   "source": [
    "krk_all.groupby([\"airline\", \"gender\"])[\"flight\"].count()"
   ]
  },
  {
   "cell_type": "code",
   "execution_count": 14,
   "metadata": {},
   "outputs": [
    {
     "data": {
      "text/plain": [
       "<Axes: xlabel='airline,gender'>"
      ]
     },
     "execution_count": 14,
     "metadata": {},
     "output_type": "execute_result"
    },
    {
     "data": {
      "image/png": "[encoded data removed]",
      "text/plain": [
       "<Figure size 640x480 with 1 Axes>"
      ]
     },
     "metadata": {},
     "output_type": "display_data"
    }
   ],
   "source": [
    "krk_all.groupby([\"airline\", \"gender\"])[\"flight\"].count().plot.bar()"
   ]
  }
 ],
 "metadata": {
  "kernelspec": {
   "display_name": "Python 3",
   "language": "python",
   "name": "python3"
  },
  "language_info": {
   "codemirror_mode": {
    "name": "ipython",
    "version": 3
   },
   "file_extension": ".py",
   "mimetype": "text/x-python",
   "name": "python",
   "nbconvert_exporter": "python",
   "pygments_lexer": "ipython3",
   "version": "3.12.2"
  }
 },
 "nbformat": 4,
 "nbformat_minor": 2
}
